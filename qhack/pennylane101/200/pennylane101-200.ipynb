{
 "cells": [
  {
   "cell_type": "markdown",
   "metadata": {},
   "source": [
    "# Pennylane 101 - 200: Know Your Devices"
   ]
  },
  {
   "cell_type": "code",
   "execution_count": null,
   "metadata": {},
   "outputs": [],
   "source": [
    "def matrix_norm(mixed_state, pure_state):\n",
    "    \"\"\"Computes the matrix one-norm of the difference between mixed and pure states.\n",
    "    Args:\n",
    "        - mixed_state (np.tensor): A density matrix\n",
    "        - pure_state (np.tensor): A pure state\n",
    "    Returns:\n",
    "        - (float): The matrix one-norm\n",
    "    \"\"\"\n",
    "\n",
    "    return np.sum(np.abs(mixed_state - np.outer(pure_state, np.conj(pure_state))))\n",
    "\n",
    "\n",
    "def compare_circuits(num_wires, params):\n",
    "    \"\"\"Function that returns the matrix norm between the mixed- and pure-state versions of the same state.\n",
    "    Args:\n",
    "        - num_wires (int): The number of qubits / wires\n",
    "        - params (list(np.ndarray)): Two arrays with num_wires floats that correspond to angles of y-rotations\n",
    "        for each wire\n",
    "    Returns:\n",
    "        - mat_norm (float): The matrix one-norm\n",
    "    \"\"\"\n",
    "\n",
    "    # QHACK #\n",
    "    # define devices\n",
    "\n",
    "    # add a decorator here\n",
    "    def pure_circuit():\n",
    "        \"\"\"A circuit that contains `num_wires` y-rotation gates.\n",
    "        The argument params[0] are the parameters you should use here to define the y-rotations.\n",
    "        Returns:\n",
    "            - (np.tensor): A state vector\n",
    "        \"\"\"\n",
    "        # create the circuit here\n",
    "        return qml.state()\n",
    "\n",
    "    # add a decorator here\n",
    "    def mixed_circuit():\n",
    "        \"\"\"A circuit that contains `num_wires` y-rotation gates.\n",
    "        The argument params[1] are the parameters you should use here to define the y-rotations.\n",
    "        Returns:\n",
    "            - (np.tensor): A density matrix\n",
    "        \"\"\"\n",
    "        # create the circuit here\n",
    "        return qml.state()\n",
    "\n",
    "    # QHACK #\n",
    "\n",
    "    # DO NOT MODIFY any of the next lines in this scope\n",
    "    mixed_state = mixed_circuit()\n",
    "    pure_state = pure_circuit()\n",
    "    mat_norm = matrix_norm(mixed_state, pure_state)\n",
    "\n",
    "    return mat_norm"
   ]
  }
 ],
 "metadata": {
  "language_info": {
   "name": "python"
  },
  "orig_nbformat": 4
 },
 "nbformat": 4,
 "nbformat_minor": 2
}
