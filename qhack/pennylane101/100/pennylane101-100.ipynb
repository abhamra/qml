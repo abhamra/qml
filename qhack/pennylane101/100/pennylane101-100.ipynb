{
 "cells": [
  {
   "cell_type": "markdown",
   "metadata": {},
   "source": [
    "# Pennylane 101 - 100 Task"
   ]
  },
  {
   "cell_type": "markdown",
   "metadata": {},
   "source": [
    "## Imports"
   ]
  },
  {
   "cell_type": "code",
   "execution_count": 51,
   "metadata": {},
   "outputs": [],
   "source": [
    "import pennylane as qml\n",
    "import numpy as np\n",
    "import math"
   ]
  },
  {
   "cell_type": "markdown",
   "metadata": {},
   "source": [
    "## Defining the compare_circuits function"
   ]
  },
  {
   "cell_type": "code",
   "execution_count": 48,
   "metadata": {},
   "outputs": [],
   "source": [
    "dev = qml.device('default.qubit', wires=['q1'], shots=1000) \n",
    "\n",
    "#the wiring/setup for the two quantum circuits\n",
    "def func1(angles):\n",
    "    qml.RX(angles[0], wires=\"q1\")\n",
    "    qml.RY(angles[1], wires=\"q1\")\n",
    "    return qml.expval(qml.PauliX(\"q1\"))\n",
    "\n",
    "def func2(angles):\n",
    "    qml.RY(angles[1], wires=\"q1\")\n",
    "    qml.RX(angles[0], wires=\"q1\")\n",
    "    return qml.expval(qml.PauliX(\"q1\"))\n",
    "\n",
    "#creating the two quantum circuits THAT PENNYLANE CAN USE\n",
    "circ1 = qml.QNode(func1, dev)\n",
    "circ2 = qml.QNode(func2, dev)\n",
    "\n",
    "def compare_circuits(angles): #angles is a list of two angles\n",
    "    return abs(circ1(angles)-circ2(angles))\n"
   ]
  },
  {
   "cell_type": "markdown",
   "metadata": {},
   "source": [
    "## Reading the input files in and running the code, then checking with the output"
   ]
  },
  {
   "cell_type": "code",
   "execution_count": 54,
   "metadata": {},
   "outputs": [
    {
     "name": "stdout",
     "output_type": "stream",
     "text": [
      "[3.79894785 0.71678115]\n"
     ]
    }
   ],
   "source": [
    "filename1 = \"1.in\"\n",
    "with open(filename1) as f1:\n",
    "    data = f1.readline()\n",
    "    f1.close()\n",
    "\n",
    "data = np.fromstring(data, dtype=float, sep=\",\")\n",
    "print(data)"
   ]
  },
  {
   "cell_type": "code",
   "execution_count": 56,
   "metadata": {},
   "outputs": [
    {
     "name": "stdout",
     "output_type": "stream",
     "text": [
      "Works!\n"
     ]
    }
   ],
   "source": [
    "tolerance = 0.0001\n",
    "filename2 = \"1.out\"\n",
    "\n",
    "with open(filename2) as f2:\n",
    "    expected_result = f2.readline()\n",
    "\n",
    "expected_result = float(expected_result)\n",
    "\n",
    "if(abs((compare_circuits(data)-expected_result)/expected_result)<=tolerance):\n",
    "    print(\"Works!\")\n"
   ]
  },
  {
   "cell_type": "code",
   "execution_count": null,
   "metadata": {},
   "outputs": [],
   "source": []
  }
 ],
 "metadata": {
  "interpreter": {
   "hash": "40d3a090f54c6569ab1632332b64b2c03c39dcf918b08424e98f38b5ae0af88f"
  },
  "kernelspec": {
   "display_name": "Python 3.8.5 64-bit ('base': conda)",
   "language": "python",
   "name": "python3"
  },
  "language_info": {
   "codemirror_mode": {
    "name": "ipython",
    "version": 3
   },
   "file_extension": ".py",
   "mimetype": "text/x-python",
   "name": "python",
   "nbconvert_exporter": "python",
   "pygments_lexer": "ipython3",
   "version": "3.8.5"
  },
  "orig_nbformat": 4
 },
 "nbformat": 4,
 "nbformat_minor": 2
}
